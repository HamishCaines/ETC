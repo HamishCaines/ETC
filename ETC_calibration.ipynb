{
 "cells": [
  {
   "cell_type": "markdown",
   "metadata": {},
   "source": [
    "# ETC Calibration"
   ]
  },
  {
   "cell_type": "code",
   "execution_count": 46,
   "metadata": {},
   "outputs": [],
   "source": [
    "import numpy as np\n",
    "from os import listdir\n",
    "import sewpy\n",
    "from astroquery.simbad import Simbad\n",
    "from astropy.coordinates import SkyCoord\n",
    "from astropy import units as u\n",
    "import math\n",
    "import scipy.integrate as integ\n",
    "import matplotlib.pyplot as plt\n",
    "from astropy.io import fits"
   ]
  },
  {
   "cell_type": "markdown",
   "metadata": {},
   "source": [
    "Specify camera and target name and test frame location:"
   ]
  },
  {
   "cell_type": "code",
   "execution_count": 47,
   "metadata": {},
   "outputs": [],
   "source": [
    "camera_name = 'PL09000'\n",
    "target_name = 'SA 92-508'\n",
    "\n",
    "frame_directory = './SA92508-all/'\n",
    "frames = listdir(frame_directory) # load frames"
   ]
  },
  {
   "cell_type": "markdown",
   "metadata": {},
   "source": [
    "Define function to match target temperature to nearest template spectrum:"
   ]
  },
  {
   "cell_type": "code",
   "execution_count": 48,
   "metadata": {},
   "outputs": [],
   "source": [
    "def find_nearest(arr, val):\n",
    "    \"\"\"Function to find nearest value in an array to a given value\n",
    "    :param arr: array of values to be searched\n",
    "    :param val: value to be matched\n",
    "    :return: index of item in array that is closest to the required value\n",
    "    \"\"\"\n",
    "    arr = np.array(arr) # convert to numpy array\n",
    "    idx = (abs(arr - val)).argmin() # find index of closest value\n",
    "    return idx"
   ]
  },
  {
   "cell_type": "markdown",
   "metadata": {},
   "source": [
    "Define function to create equation of a 2D Gaussian:"
   ]
  },
  {
   "cell_type": "code",
   "execution_count": 49,
   "metadata": {},
   "outputs": [],
   "source": [
    "def twodGauss(x, y, A, sigma):\n",
    "    \"\"\"Defines the function of a 2d Gaussian function that encloses the total flux\n",
    "    :param x: x coordinates to be integrated over\n",
    "    :param y: y coordinates to be intagrated over\n",
    "    :param A: amplitude of the Gaussian curve\n",
    "    :param sigma: width of the Gaussian, specified by the site seeing\n",
    "    :return: function of 2d Gaussian\n",
    "    \"\"\"\n",
    "    return A*np.exp(-1/(2*sigma*sigma)*(x*x+y*y))"
   ]
  },
  {
   "cell_type": "markdown",
   "metadata": {},
   "source": [
    "Initialise telescope characterisitics:"
   ]
  },
  {
   "cell_type": "code",
   "execution_count": 50,
   "metadata": {},
   "outputs": [],
   "source": [
    "telescope_eff = 0.96*0.96*(1-0.005) # efficiency of the mirrors\n",
    "telescope_r = 0.305 # radius; m\n",
    "telescope_area = np.pi*telescope_r*telescope_r # telescope area; m^2\n",
    "telescope_obs = 0.47 # telescope obscuration\n",
    "telescope_total = telescope_eff*telescope_area*(1-telescope_obs) # total effct of telescope; m^2"
   ]
  },
  {
   "cell_type": "markdown",
   "metadata": {},
   "source": [
    "Load spectral type/temp data from lookup table, specify standard filter data:"
   ]
  },
  {
   "cell_type": "code",
   "execution_count": 51,
   "metadata": {},
   "outputs": [],
   "source": [
    "table_types = np.genfromtxt('colour-temp.txt',unpack=True,usecols=(0),dtype='str') #load spectral types\n",
    "table_temps = np.genfromtxt('colour-temp.txt',unpack=True,usecols=(1)) #load corresponding temperatures\n",
    "\n",
    "B_zp = -20.45 #known zero point for B\n",
    "\n",
    "#standard filters, centres, widths, and zero points\n",
    "filters = ['U','B','V','R','I','J','H','K']\n",
    "centres = [3650,4450,5510,6580,8060,12200,16300,21900]\n",
    "widths = [660,940,880,1380,1490,2130,3070,3900]\n",
    "zeros = [-20.94,-20.45,-21.12,-21.61,-22.27,-23.80,-24.80,-26.00]"
   ]
  },
  {
   "cell_type": "markdown",
   "metadata": {},
   "source": [
    "Load temperatures for template spectra:"
   ]
  },
  {
   "cell_type": "code",
   "execution_count": 52,
   "metadata": {},
   "outputs": [],
   "source": [
    "spectrum_directory = './spectra/'\n",
    "spectra = listdir(spectrum_directory)\n",
    "\n",
    "#extract temperatures from filenames and create array\n",
    "temps = []\n",
    "for spectrum in spectra:\n",
    "    temp = int(spectrum.split('-')[0][3:])\n",
    "    temps.append(temp)\n",
    "temps = np.sort(temps) # sort in ascending order"
   ]
  },
  {
   "cell_type": "markdown",
   "metadata": {},
   "source": [
    "Load data for filters to be calibrated, set camera and site characteristics:"
   ]
  },
  {
   "cell_type": "code",
   "execution_count": 53,
   "metadata": {},
   "outputs": [],
   "source": [
    "# load filter data in \\AA\n",
    "fcentres, fwidths = np.genfromtxt('filters.dat', unpack=True, usecols=(1,2))\n",
    "fnames = np.genfromtxt('filters.dat', unpack=True, usecols=(0), dtype='str').tolist()\n",
    "\n",
    "pixel_width_um = 12 #pixel width; um\n",
    "plate_scale = 0.621 #plate scale; as/pixel\n",
    "pixel_width_as = pixel_width_um*plate_scale #pixel width; as\n",
    "\n",
    "site_seeing = 3 #seeing at site; as"
   ]
  },
  {
   "cell_type": "markdown",
   "metadata": {},
   "source": [
    "Define SExtractor object to obtain RA/Dec and perform photometry:"
   ]
  },
  {
   "cell_type": "code",
   "execution_count": 54,
   "metadata": {},
   "outputs": [],
   "source": [
    "sew = sewpy.SEW(params=['X_IMAGE','Y_IMAGE','FWHM_WORLD','ALPHA_J2000','DELTA_J2000','FLUX_BEST'],\n",
    "                config={'DETECT_MINAREA':20, 'PHOT_APERTURES':'5,10,20,50'},\n",
    "                sexpath='sex')"
   ]
  },
  {
   "cell_type": "markdown",
   "metadata": {},
   "source": [
    "Create Simbad object to obtain target coordinates, spectral type and B magnitude:"
   ]
  },
  {
   "cell_type": "code",
   "execution_count": 55,
   "metadata": {},
   "outputs": [],
   "source": [
    "custom_sim = Simbad()\n",
    "custom_sim.add_votable_fields('flux(B)','sp','coordinates') # add required fields\n",
    "\n",
    "simdata = custom_sim.query_object(target_name) # run query\n",
    "\n",
    "\n",
    "raw_ra, raw_dec = simdata['RA'][0], simdata['DEC'][0] #extract coordinates\n",
    "target_coords = SkyCoord(raw_ra, raw_dec, unit=(u.hourangle, u.deg)) # create SkyCoord object\n",
    "# extract coords in degrees\n",
    "ra = target_coords.ra.deg\n",
    "dec = target_coords.dec.deg\n",
    "\n",
    "Bmag = simdata[0]['FLUX_B'] # extract B magnitude"
   ]
  },
  {
   "cell_type": "markdown",
   "metadata": {},
   "source": [
    "Extract target spectral type, convert to temperature, determine and then load corresponding template spectrum:"
   ]
  },
  {
   "cell_type": "code",
   "execution_count": 56,
   "metadata": {},
   "outputs": [],
   "source": [
    "sp = str(simdata[0]['SP_TYPE'])[2:4]#obtain 2-character spectral type from data table\n",
    "temp_val = table_temps[np.where(table_types == sp+'V')[0][0]]  #convert spectral type to tempterature using lookup table\n",
    "#loopup table only has V spectral classes, so add V as approximation\n",
    "\n",
    "t_index = find_nearest(temps, temp_val) # find nearest available temp to value\n",
    "# find corresponding file \n",
    "for spectrum in spectra:\n",
    "    # check filenames for nearest temp\n",
    "    if np.int(spectrum.split('-')[0][3:]) == np.int(temps[t_index]):\n",
    "        spectrum_file = spectrum\n",
    "\n",
    "# load file        \n",
    "wave, SED = np.genfromtxt(spectrum_directory+spectrum_file, unpack=True, usecols=(0,1))\n",
    "wave *= 1e4 # convert to \\AA\n",
    "wave *= 1e-10 # convert to m\n",
    "SED *= 10/1e-6 # convert to W/m^2/m"
   ]
  },
  {
   "cell_type": "markdown",
   "metadata": {},
   "source": [
    "Calculate multiplicative offset $\\alpha$ between calculated and actual zero point for each of the standard filters, then define a polynomial relationship the describes the relationship between filter effective wavelength and $\\alpha$:\n",
    "\n",
    "### Todo: Improve to use ascii files for standard filters instead of step functions?"
   ]
  },
  {
   "cell_type": "code",
   "execution_count": 57,
   "metadata": {},
   "outputs": [],
   "source": [
    "alphas = [] #initialise array\n",
    "order = 3 #set polynomial order\n",
    "\n",
    "for i in range(0,len(filters)): #loop across filters\n",
    "    loop_band = np.zeros(len(wave)) # new band array\n",
    "    # find edges in wavelength space\n",
    "    loop_band_min = (centres[i] - widths[i]/2)*1e-10 # m\n",
    "    loop_band_max = (centres[i] + widths[i]/2)*1e-10 # m\n",
    "    # find corresponding indexes\n",
    "    loop_start_idx = abs(wave - loop_band_min).argmin()\n",
    "    loop_end_idx = abs(wave - loop_band_max).argmin()\n",
    "    #create step function in waveband range\n",
    "    for j in range(loop_start_idx, loop_end_idx):\n",
    "        loop_band[j] = 1.0\n",
    "        \n",
    "    loop_trans = SED*loop_band # isolate transmission in waveband\n",
    "    loop_flux = integ.simps(loop_trans, wave, dx=10e-10) # find total\n",
    "    \n",
    "    z_calc = 2.5*math.log10(loop_flux) # calculate zero point\n",
    "    new_alpha = zeros[i]/z_calc # find proportionality between calculated and known zero points\n",
    "    alphas.append(new_alpha) # add to array\n",
    "# fit polynomial to alpha values\n",
    "alpha_poly = np.poly1d(np.polyfit(centres, alphas, order))"
   ]
  },
  {
   "cell_type": "markdown",
   "metadata": {},
   "source": [
    "Find flux in B band from template spectrum:"
   ]
  },
  {
   "cell_type": "code",
   "execution_count": 58,
   "metadata": {},
   "outputs": [],
   "source": [
    "Bmid = 4450\n",
    "Bwidth = 940\n",
    "Bband = np.zeros(len(wave)) #new, bespoke band array\n",
    "#find edges of band\n",
    "Bband_min = (Bmid - Bwidth/2)*1e-10\n",
    "Bband_max = (Bmid + Bwidth/2)*1e-10\n",
    "#find corresponding indexes\n",
    "Bstart_idx = abs(wave - Bband_min).argmin()\n",
    "Bend_idx = abs(wave - Bband_max).argmin()\n",
    "#create stpe function in band\n",
    "for i in range(Bstart_idx, Bend_idx):\n",
    "    Bband[i] = 1.0\n",
    "    \n",
    "Btrans = SED*Bband # isolate flux in B band\n",
    "Bflux = integ.simps(Btrans, wave, dx=10e-10) # find total"
   ]
  },
  {
   "cell_type": "markdown",
   "metadata": {},
   "source": [
    "Load CCD efficiency polynomial from file and initialise across wavelength range:"
   ]
  },
  {
   "cell_type": "code",
   "execution_count": 59,
   "metadata": {},
   "outputs": [],
   "source": [
    "# load polynomial coefficients from file\n",
    "ccd_poly_coeffs = np.genfromtxt('./CCD-effs/'+camera_name+'.poly', usecols=(1))\n",
    "ccd_poly = np.poly1d(ccd_poly_coeffs) # create polynonmial object\n",
    "ccd_response_curve = ccd_poly(wave) # initialise across wavelength range"
   ]
  },
  {
   "cell_type": "markdown",
   "metadata": {},
   "source": [
    "Calculate theoretical fluxes in each waveband being calibrated using flux in B band and filter zero points. Then for each waveband account for telescope geometry and distribution of flux over a single pixel to obtain a final theoretical flux being recieved by a single pixel.\n",
    "\n",
    "Then, for each test frame in each waveband, carry out aperture photometry using SExtractor and extract a flux rate being received from the target using the exposure time of each frame and CCD characteristics:"
   ]
  },
  {
   "cell_type": "code",
   "execution_count": 60,
   "metadata": {},
   "outputs": [
    {
     "name": "stderr",
     "output_type": "stream",
     "text": [
      "Ouch, SExtractor complains :\n",
      "b''\n"
     ]
    },
    {
     "name": "stdout",
     "output_type": "stream",
     "text": [
      "Filter: r' Coeff: 0.6940282877047105\n",
      "Filter: g' Coeff: 0.6454135579945701\n",
      "Filter: i' Coeff: 0.5213640811275398\n"
     ]
    }
   ],
   "source": [
    "for i in range(0,len(fcentres)): # loop across filters\n",
    "    coefficients = [] # array for coefficients\n",
    "    # find filter centre and width\n",
    "    mid = fcentres[i]\n",
    "    wid = fwidths[i]\n",
    "    band = np.zeros(len(wave)) # new band of zeros\n",
    "    #find edges of waveband\n",
    "    band_min = (mid - wid/2)*1e-10\n",
    "    band_max = (mid + wid/2)*1e-10\n",
    "    #find corresponding indexes in wavelength array\n",
    "    start_idx = abs(wave - band_min).argmin()\n",
    "    end_idx = abs(wave - band_max).argmin()\n",
    "    #create step function within waveband\n",
    "    for j in range(start_idx, end_idx):\n",
    "        band[j] = 1.0\n",
    "        \n",
    "    alpha = alpha_poly(mid) # obtain alpha value from polynomial\n",
    "\n",
    "    transmission = SED*band # isolate transmission within band\n",
    "    flux = integ.simps(transmission, wave, dx=10e-10) # find total\n",
    "    z_calc = 2.5*math.log10(flux) # calculate zero point\n",
    "    zp = alpha*z_calc # correct using alpha\n",
    "    # calculate magnitude in current filter\n",
    "    Fmag = Bmag + 2.5*math.log10(Bflux/flux) - B_zp + zp\n",
    "    Fflux = 10**((zp - Fmag)/2.5) # find corresponding flux; W/m^2/m\n",
    "    flux = Fflux*telescope_total # adjust for telescope effects W/m\n",
    "    \n",
    "    #trim ccd response curve to waveband\n",
    "    ccd_response_band = ccd_response_curve[start_idx:end_idx]\n",
    "    ccd_response = np.mean(ccd_response_band) # take average response within band\n",
    "    flux *= ccd_response # calculate detected flux\n",
    "    \n",
    "    gauss_amp = flux/(2*np.pi*site_seeing*site_seeing) #  determine amplitude of gaussian\n",
    "    # integrate gaussian specified by amplitude and site seeing over a single pixel\n",
    "    theory_flux = integ.dblquad(twodGauss,-pixel_width_as/2,pixel_width_as/2,-pixel_width_as/2,pixel_width_as/2, args=(gauss_amp,site_seeing))[0] # J/s (W)\n",
    "    \n",
    "    for frame in frames: # loop across all test frames\n",
    "        fits_header = fits.open(frame_directory+frame)[0].header #open fits header\n",
    "        filt = fits_header['FILTER'] # obtain filter used\n",
    "        if filt == fnames[i]: # only proceed if observed filter matches current filter\n",
    "            sewdata = sew(frame_directory+frame) # run SExtractor\n",
    "            sewtable = sewdata['table'] # obtain data table\n",
    "            # obtain desired columns from table\n",
    "            flux_column = sewtable['FLUX_BEST']\n",
    "            ra_column = sewtable['ALPHA_J2000']\n",
    "            dec_column = sewtable['DELTA_J2000']\n",
    "            # find target index by matching coordinates\n",
    "            target_idx = np.where(np.logical_and(abs(ra_column - ra)< 0.01, abs(dec_column - dec) < 0.01))[0]\n",
    "\n",
    "            exptime = fits_header['EXPTIME'] # obtain exposure time of image\n",
    "\n",
    "            filter_idx = fnames.index(filt) # find index of filter in filter array\n",
    "            # load filter data\n",
    "            mid = fcentres[filter_idx]\n",
    "            wid = fwidths[filter_idx]\n",
    "            #define wavelength array in waveband\n",
    "            fband = np.arange((mid-wid/2)*1e-10, (mid+wid/2)*1e-10, 10e-10)\n",
    "\n",
    "            ccd_curve = ccd_poly(fband) # initialise ccd polynomial in waveband\n",
    "            ccd_avgres = np.mean(ccd_curve) # take average response in band; photons/e-\n",
    "            \n",
    "            # calculate average energy of photon in band based on central wavelength\n",
    "            h = 6.63e-34 # Planck constant; m^2kg/s\n",
    "            c = 3e8 # speed of light; ms^-1\n",
    "            avgE = h*c/(mid*1e-10) # energy of single photon; J\n",
    "\n",
    "            counts = flux_column[target_idx][0] # total ADU from target\n",
    "            gain = 1.4 # e-/ADU\n",
    "            electrons = counts*gain # e-\n",
    "            photons = electrons/ccd_avgres # photons\n",
    "            flux_tot = avgE*photons # J\n",
    "            flux_rate = flux_tot/exptime # J/s (W)\n",
    "            \n",
    "            new_coeff = theory_flux/flux_rate\n",
    "            coefficients.append(new_coeff)\n",
    "            \n",
    "    mean_coeff = np.mean(coefficients)\n",
    "    #print(coefficients)\n",
    "    print('Filter: '+fnames[i]+' Coeff: '+str(mean_coeff))"
   ]
  },
  {
   "cell_type": "code",
   "execution_count": null,
   "metadata": {},
   "outputs": [],
   "source": []
  }
 ],
 "metadata": {
  "kernelspec": {
   "display_name": "Python 3",
   "language": "python",
   "name": "python3"
  },
  "language_info": {
   "codemirror_mode": {
    "name": "ipython",
    "version": 3
   },
   "file_extension": ".py",
   "mimetype": "text/x-python",
   "name": "python",
   "nbconvert_exporter": "python",
   "pygments_lexer": "ipython3",
   "version": "3.6.5"
  }
 },
 "nbformat": 4,
 "nbformat_minor": 2
}
