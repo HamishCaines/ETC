{
 "cells": [
  {
   "cell_type": "code",
   "execution_count": 42,
   "metadata": {},
   "outputs": [],
   "source": [
    "import numpy as np\n",
    "from os import listdir\n",
    "from astroquery.simbad import Simbad\n",
    "import scipy.integrate as integ\n",
    "import math\n",
    "import matplotlib.pyplot as plt\n",
    "from PyAstronomy import pyasl"
   ]
  },
  {
   "cell_type": "markdown",
   "metadata": {},
   "source": [
    "Specify target and camera names, and CCD and site characteristics:"
   ]
  },
  {
   "cell_type": "code",
   "execution_count": 43,
   "metadata": {},
   "outputs": [],
   "source": [
    "target_name = 'SA 92-508'\n",
    "camera_name = 'PL09000'"
   ]
  },
  {
   "cell_type": "markdown",
   "metadata": {},
   "source": [
    "Define function to match target temperature to nearest template spectrum:"
   ]
  },
  {
   "cell_type": "code",
   "execution_count": 44,
   "metadata": {},
   "outputs": [],
   "source": [
    "def find_nearest(arr, val):\n",
    "    \"\"\"Function to find nearest value in an array to a given value\n",
    "    :param arr: array of values to be searched\n",
    "    :param val: value to be matched\n",
    "    :return: index of item in array that is closest to the required value\n",
    "    \"\"\"\n",
    "    arr = np.array(arr) # convert to numpy array\n",
    "    idx = (abs(arr - val)).argmin() # find index of closest value\n",
    "    return idx"
   ]
  },
  {
   "cell_type": "markdown",
   "metadata": {},
   "source": [
    "Initialise telescope characterisitics:"
   ]
  },
  {
   "cell_type": "code",
   "execution_count": 45,
   "metadata": {},
   "outputs": [],
   "source": [
    "telescope_eff = 0.96*0.96*(1-0.005) # efficiency of the mirrors\n",
    "telescope_r = 0.305 # radius; m\n",
    "telescope_area = np.pi*telescope_r*telescope_r # telescope area; m^2\n",
    "telescope_obs = 0.47 # telescope obscuration\n",
    "telescope_total = telescope_eff*telescope_area*(1-telescope_obs) # total effct of telescope; m^2"
   ]
  },
  {
   "cell_type": "markdown",
   "metadata": {},
   "source": [
    "Load spectral type/temp data from lookup table, specify standard filter data:"
   ]
  },
  {
   "cell_type": "code",
   "execution_count": 46,
   "metadata": {},
   "outputs": [],
   "source": [
    "table_types = np.genfromtxt('colour-temp.txt',unpack=True,usecols=(0),dtype='str') #load spectral types\n",
    "table_temps = np.genfromtxt('colour-temp.txt',unpack=True,usecols=(1)) #load corresponding temperatures\n",
    "\n",
    "B_zp = -20.45 #known zero point for B\n",
    "\n",
    "#standard filters, centres, widths, and zero points\n",
    "filters = ['U','B','V','R','I','J','H','K']\n",
    "centres = [3650,4450,5510,6580,8060,12200,16300,21900]\n",
    "widths = [660,940,880,1380,1490,2130,3070,3900]\n",
    "zeros = [-20.94,-20.45,-21.12,-21.61,-22.27,-23.80,-24.80,-26.00]"
   ]
  },
  {
   "cell_type": "markdown",
   "metadata": {},
   "source": [
    "Load temperatures for template spectra:"
   ]
  },
  {
   "cell_type": "code",
   "execution_count": 47,
   "metadata": {},
   "outputs": [],
   "source": [
    "spectrum_directory = './spectra/'\n",
    "spectra = listdir(spectrum_directory)\n",
    "\n",
    "#extract temperatures from filenames and create array\n",
    "temps = []\n",
    "for spectrum in spectra:\n",
    "    temp = int(spectrum.split('-')[0][3:])\n",
    "    temps.append(temp)\n",
    "temps = np.sort(temps) # sort in ascending order"
   ]
  },
  {
   "cell_type": "markdown",
   "metadata": {},
   "source": [
    "Load data for filters to be used, set camera and site characteristics:"
   ]
  },
  {
   "cell_type": "code",
   "execution_count": 48,
   "metadata": {},
   "outputs": [],
   "source": [
    "# load filter data in \\AA\n",
    "fcentres, fwidths, coeffs = np.genfromtxt('filters.dat', unpack=True, usecols=(1,2,3))\n",
    "fnames = np.genfromtxt('filters.dat', unpack=True, usecols=(0), dtype='str').tolist()\n",
    "\n",
    "pixel_width_um = 12 # um\n",
    "plate_scale = 0.621 # as/pixel (as/12um)\n",
    "pixel_width_as = pixel_width_um*plate_scale\n",
    "\n",
    "site_seeing = 3.0 # as"
   ]
  },
  {
   "cell_type": "markdown",
   "metadata": {},
   "source": [
    "Create Simbad object to obtain target B magnitude and spectral type:"
   ]
  },
  {
   "cell_type": "code",
   "execution_count": 49,
   "metadata": {},
   "outputs": [],
   "source": [
    "custom_sim = Simbad()\n",
    "custom_sim.add_votable_fields('flux(B)','sp') # add required fields\n",
    "\n",
    "simdata = custom_sim.query_object(target_name) # run query\n",
    "Bmag = simdata[0]['FLUX_B'] # extract B magnitude"
   ]
  },
  {
   "cell_type": "markdown",
   "metadata": {},
   "source": [
    "Extract target spectral type, convert to temperature, determine and then load corresponding template spectrum:"
   ]
  },
  {
   "cell_type": "code",
   "execution_count": 63,
   "metadata": {},
   "outputs": [],
   "source": [
    "sp = str(simdata[0]['SP_TYPE'])[2:4]#obtain 2-character spectral type from data table\n",
    "temp_val = table_temps[np.where(table_types == sp+'V')[0][0]]  #convert spectral type to tempterature using lookup table\n",
    "#loopup table only has V spectral classes, so add V as approximation\n",
    "\n",
    "t_index = find_nearest(temps, temp_val) # find nearest available temp to value\n",
    "# find corresponding file \n",
    "for spectrum in spectra:\n",
    "    # check filenames for nearest temp\n",
    "    if np.int(spectrum.split('-')[0][3:]) == np.int(temps[t_index]):\n",
    "        spectrum_file = spectrum\n",
    "        \n",
    "# load file        \n",
    "wave, SED = np.genfromtxt(spectrum_directory+spectrum_file, unpack=True, usecols=(0,1))\n",
    "wave *= 1e4 # convert to \\AA\n",
    "wave *= 1e-10 # convert to m\n",
    "SED *= 10/1e-6 # convert to W/m^2/m"
   ]
  },
  {
   "cell_type": "markdown",
   "metadata": {},
   "source": [
    "Calculate multiplicative offset $\\alpha$ between calculated and actual zero point for each of the standard filters, then define a polynomial relationship the describes the relationship between filter effective wavelength and $\\alpha$:"
   ]
  },
  {
   "cell_type": "code",
   "execution_count": 64,
   "metadata": {},
   "outputs": [],
   "source": [
    "alphas = [] #initialise array\n",
    "order = 3 #set polynomial order\n",
    "\n",
    "for i in range(0,len(filters)): #loop across filters\n",
    "    loop_band = np.zeros(len(wave)) # new band array\n",
    "    # find edges in wavelength space\n",
    "    loop_band_min = (centres[i] - widths[i]/2)*1e-10 # m\n",
    "    loop_band_max = (centres[i] + widths[i]/2)*1e-10 # m\n",
    "    # find corresponding indexes\n",
    "    loop_start_idx = abs(wave - loop_band_min).argmin()\n",
    "    loop_end_idx = abs(wave - loop_band_max).argmin()\n",
    "    #create step function in waveband range\n",
    "    for j in range(loop_start_idx, loop_end_idx):\n",
    "        loop_band[j] = 1.0\n",
    "        \n",
    "    loop_trans = SED*loop_band # isolate transmission in waveband\n",
    "    loop_flux = integ.simps(loop_trans, wave, dx=10e-10) # find total\n",
    "    \n",
    "    z_calc = 2.5*math.log10(loop_flux) # calculate zero point\n",
    "    new_alpha = zeros[i]/z_calc # find proportionality between calculated and known zero points\n",
    "    alphas.append(new_alpha) # add to array\n",
    "# fit polynomial to alpha values\n",
    "alpha_poly = np.poly1d(np.polyfit(centres, alphas, order))"
   ]
  },
  {
   "cell_type": "markdown",
   "metadata": {},
   "source": [
    "Find flux in B band from template spectrum:"
   ]
  },
  {
   "cell_type": "code",
   "execution_count": 65,
   "metadata": {},
   "outputs": [],
   "source": [
    "Bmid = 4450\n",
    "Bwidth = 940\n",
    "Bband = np.zeros(len(wave)) #new, bespoke band array\n",
    "#find edges of band\n",
    "Bband_min = (Bmid - Bwidth/2)*1e-10\n",
    "Bband_max = (Bmid + Bwidth/2)*1e-10\n",
    "#find corresponding indexes\n",
    "Bstart_idx = abs(wave - Bband_min).argmin()\n",
    "Bend_idx = abs(wave - Bband_max).argmin()\n",
    "#create stpe function in band\n",
    "for i in range(Bstart_idx, Bend_idx):\n",
    "    Bband[i] = 1.0\n",
    "    \n",
    "Btrans = SED*Bband # isolate flux in B band\n",
    "Bflux = integ.simps(Btrans, wave, dx=10e-10) # find total"
   ]
  },
  {
   "cell_type": "markdown",
   "metadata": {},
   "source": [
    "Load CCD efficiency polynomial from file and initialise across wavelength range:"
   ]
  },
  {
   "cell_type": "code",
   "execution_count": 66,
   "metadata": {},
   "outputs": [],
   "source": [
    "# load polynomial coefficients from file\n",
    "ccd_poly_coeffs = np.genfromtxt('./CCD-effs/'+camera_name+'.poly', usecols=(1))\n",
    "ccd_poly = np.poly1d(ccd_poly_coeffs) # create polynonmial object\n",
    "ccd_response_curve = ccd_poly(wave) # initialise across wavelength range"
   ]
  },
  {
   "cell_type": "code",
   "execution_count": 68,
   "metadata": {},
   "outputs": [
    {
     "name": "stdout",
     "output_type": "stream",
     "text": [
      "Filter: r' Max Exp Time: 281.0s\n",
      "Filter: g' Max Exp Time: 351.0s\n",
      "Filter: i' Max Exp Time: 418.0s\n"
     ]
    }
   ],
   "source": [
    "for i in range(0,len(fcentres)): # loop across filters\n",
    "    coefficients = [] # array for coefficients\n",
    "    # find filter centre and width\n",
    "    mid = fcentres[i]\n",
    "    wid = fwidths[i]\n",
    "    band = np.zeros(len(wave)) # new band of zeros\n",
    "    #find edges of waveband\n",
    "    band_min = (mid - wid/2)*1e-10\n",
    "    band_max = (mid + wid/2)*1e-10\n",
    "    #find corresponding indexes in wavelength array\n",
    "    start_idx = abs(wave - band_min).argmin()\n",
    "    end_idx = abs(wave - band_max).argmin()\n",
    "    #create step function within waveband\n",
    "    for j in range(start_idx, end_idx):\n",
    "        band[j] = 1.0\n",
    "        \n",
    "    alpha = alpha_poly(mid) # obtain alpha value from polynomial\n",
    "\n",
    "    transmission = SED*band # isolate transmission within band\n",
    "    flux = integ.simps(transmission, wave, dx=10e-10) # find total\n",
    "    z_calc = 2.5*math.log10(flux) # calculate zero point\n",
    "    zp = alpha*z_calc # correct using alpha\n",
    "    # calculate magnitude in current filter\n",
    "    Fmag = Bmag + 2.5*math.log10(Bflux/flux) - B_zp + zp\n",
    "    Fflux = 10**((zp - Fmag)/2.5) # find corresponding flux; W/m^2/m\n",
    "    flux = Fflux*telescope_total # adjust for telescope effects W/m\n",
    "    \n",
    "    #trim ccd response curve to waveband\n",
    "    ccd_response_band = ccd_response_curve[start_idx:end_idx]\n",
    "    ccd_response = np.mean(ccd_response_band) # take average response within band\n",
    "    flux *= ccd_response # calculate detected flux\n",
    "    \n",
    "    gauss_amp = flux/(2*np.pi*site_seeing*site_seeing) #  determine amplitude of gaussian\n",
    "    \n",
    "    coefficient = coeffs[i]\n",
    "    actual = gauss_amp/coefficient\n",
    "    \n",
    "    h = 6.63e-34 # Planck constant; m^2kg/s\n",
    "    c = 3e8 # m/s\n",
    "    avgE = h*c/(mid*1e-10)\n",
    "    \n",
    "    max_electrons = 110000\n",
    "    \n",
    "    photon_rate = actual/avgE\n",
    "    electron_rate = photon_rate*ccd_response\n",
    "    \n",
    "    time = max_electrons/electron_rate\n",
    "    print('Filter: '+fnames[i]+' Max Exp Time: '+str(np.round(time,0))+'s')"
   ]
  },
  {
   "cell_type": "code",
   "execution_count": null,
   "metadata": {},
   "outputs": [],
   "source": []
  },
  {
   "cell_type": "code",
   "execution_count": null,
   "metadata": {},
   "outputs": [],
   "source": []
  }
 ],
 "metadata": {
  "kernelspec": {
   "display_name": "Python 3",
   "language": "python",
   "name": "python3"
  },
  "language_info": {
   "codemirror_mode": {
    "name": "ipython",
    "version": 3
   },
   "file_extension": ".py",
   "mimetype": "text/x-python",
   "name": "python",
   "nbconvert_exporter": "python",
   "pygments_lexer": "ipython3",
   "version": "3.6.5"
  }
 },
 "nbformat": 4,
 "nbformat_minor": 2
}
